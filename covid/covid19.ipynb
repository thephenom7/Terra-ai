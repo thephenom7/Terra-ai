{
  "nbformat": 4,
  "nbformat_minor": 0,
  "metadata": {
    "colab": {
      "name": "covid19.ipynb",
      "provenance": [],
      "collapsed_sections": []
    },
    "kernelspec": {
      "name": "python3",
      "display_name": "Python 3"
    },
    "accelerator": "GPU"
  },
  "cells": [
    {
      "cell_type": "code",
      "metadata": {
        "id": "rWi5FwFl7xYJ",
        "colab_type": "code",
        "outputId": "677f2086-6f04-4d89-8fae-05af5980bdb5",
        "colab": {
          "base_uri": "https://localhost:8080/",
          "height": 34
        }
      },
      "source": [
        "import os\n",
        "import pprint\n",
        "import tensorflow as tf\n",
        "\n",
        "if 'COLAB_TPU_ADDR' not in os.environ:\n",
        "  print('ERROR: Not connected to a TPU runtime; please see the first cell in this notebook for instructions!')\n",
        "else:\n",
        "  tpu_address = 'grpc://' + os.environ['COLAB_TPU_ADDR']\n",
        "  print ('TPU address is', tpu_address)\n"
      ],
      "execution_count": 0,
      "outputs": [
        {
          "output_type": "stream",
          "text": [
            "ERROR: Not connected to a TPU runtime; please see the first cell in this notebook for instructions!\n"
          ],
          "name": "stdout"
        }
      ]
    },
    {
      "cell_type": "code",
      "metadata": {
        "id": "4mTI6sc18jJD",
        "colab_type": "code",
        "colab": {}
      },
      "source": [
        "!mkdir .kaggle"
      ],
      "execution_count": 0,
      "outputs": []
    },
    {
      "cell_type": "code",
      "metadata": {
        "id": "nwQb9SAg8p8K",
        "colab_type": "code",
        "colab": {}
      },
      "source": [
        "import json"
      ],
      "execution_count": 0,
      "outputs": []
    },
    {
      "cell_type": "code",
      "metadata": {
        "id": "f36Km0wv8sqd",
        "colab_type": "code",
        "colab": {}
      },
      "source": [
        "token={\"username\":\"akshaylucof\",\"key\":\"2ba90f5960ccb38c72cb2615892af210\"}"
      ],
      "execution_count": 0,
      "outputs": []
    },
    {
      "cell_type": "code",
      "metadata": {
        "id": "UF9IzWZE8v21",
        "colab_type": "code",
        "colab": {}
      },
      "source": [
        "with open('/content/.kaggle/kaggle.json', 'w') as file:\n",
        "    json.dump(token, file)"
      ],
      "execution_count": 0,
      "outputs": []
    },
    {
      "cell_type": "code",
      "metadata": {
        "id": "9HtEgU_L8zpy",
        "colab_type": "code",
        "colab": {}
      },
      "source": [
        "!cp /content/.kaggle/kaggle.json ~/.kaggle/kaggle.json"
      ],
      "execution_count": 0,
      "outputs": []
    },
    {
      "cell_type": "code",
      "metadata": {
        "id": "sEjZhjAA82wh",
        "colab_type": "code",
        "outputId": "511fb384-7ebe-4d1e-d324-250c9ee8a780",
        "colab": {
          "base_uri": "https://localhost:8080/",
          "height": 52
        }
      },
      "source": [
        "!kaggle config set -n path -v{/content}"
      ],
      "execution_count": 0,
      "outputs": [
        {
          "output_type": "stream",
          "text": [
            "Warning: Your Kaggle API key is readable by other users on this system! To fix this, you can run 'chmod 600 /root/.kaggle/kaggle.json'\n",
            "- path is now set to: {/content}\n"
          ],
          "name": "stdout"
        }
      ]
    },
    {
      "cell_type": "code",
      "metadata": {
        "id": "WxyKjjnN8955",
        "colab_type": "code",
        "colab": {}
      },
      "source": [
        "!chmod 600 /root/.kaggle/kaggle.json"
      ],
      "execution_count": 0,
      "outputs": []
    },
    {
      "cell_type": "code",
      "metadata": {
        "id": "EjvRM21C9BN2",
        "colab_type": "code",
        "outputId": "6c32a563-f48f-47ed-d4c0-ca1b17f4512d",
        "colab": {
          "base_uri": "https://localhost:8080/",
          "height": 69
        }
      },
      "source": [
        "!kaggle datasets download -d akshaylucof/coviddataset"
      ],
      "execution_count": 0,
      "outputs": [
        {
          "output_type": "stream",
          "text": [
            "Downloading coviddataset.zip to {/content}/datasets/akshaylucof/coviddataset\n",
            " 75% 9.00M/11.9M [00:00<00:00, 16.1MB/s]\n",
            "100% 11.9M/11.9M [00:00<00:00, 18.8MB/s]\n"
          ],
          "name": "stdout"
        }
      ]
    },
    {
      "cell_type": "code",
      "metadata": {
        "id": "Wxcxrb9H9XoI",
        "colab_type": "code",
        "outputId": "4e8c24d1-64e0-40cd-b557-047c13216b58",
        "colab": {
          "base_uri": "https://localhost:8080/",
          "height": 920
        }
      },
      "source": [
        "!unzip /content/{/content}/datasets/akshaylucof/coviddataset/coviddataset.zip -d /content/{"
      ],
      "execution_count": 0,
      "outputs": [
        {
          "output_type": "stream",
          "text": [
            "Archive:  /content/{/content}/datasets/akshaylucof/coviddataset/coviddataset.zip\n",
            "replace /content/{/dataset/Test/covid/nejmoa2001191_f3-PA.jpeg? [y]es, [n]o, [A]ll, [N]one, [r]ename: A\n",
            "  inflating: /content/{/dataset/Test/covid/nejmoa2001191_f3-PA.jpeg  \n",
            "  inflating: /content/{/dataset/Test/covid/nejmoa2001191_f4.jpeg  \n",
            "  inflating: /content/{/dataset/Test/covid/nejmoa2001191_f5-PA.jpeg  \n",
            "  inflating: /content/{/dataset/Test/covid/radiol.2020200490.fig3.jpeg  \n",
            "  inflating: /content/{/dataset/Test/covid/radiopedia-covid-19-pneumonia-2.jpg  \n",
            "  inflating: /content/{/dataset/Test/normal/IM-0033-0001-0001.jpeg  \n",
            "  inflating: /content/{/dataset/Test/normal/IM-0240-0001.jpeg  \n",
            "  inflating: /content/{/dataset/Test/normal/IM-0466-0001.jpeg  \n",
            "  inflating: /content/{/dataset/Test/normal/NORMAL2-IM-0315-0001.jpeg  \n",
            "  inflating: /content/{/dataset/Test/normal/NORMAL2-IM-0696-0001.jpeg  \n",
            "  inflating: /content/{/dataset/Train/covid/1-s2.0-S0140673620303706-fx1_lrg.jpg  \n",
            "  inflating: /content/{/dataset/Train/covid/1-s2.0-S0929664620300449-gr2_lrg-a (copy).jpg  \n",
            "  inflating: /content/{/dataset/Train/covid/1-s2.0-S0929664620300449-gr2_lrg-b.jpg  \n",
            "  inflating: /content/{/dataset/Train/covid/1-s2.0-S0929664620300449-gr2_lrg-c.jpg  \n",
            "  inflating: /content/{/dataset/Train/covid/1-s2.0-S0929664620300449-gr2_lrg-d.jpg  \n",
            "  inflating: /content/{/dataset/Train/covid/auntminnie-a-2020_01_28_23_51_6665_2020_01_28_Vietnam_coronavirus.jpeg  \n",
            "  inflating: /content/{/dataset/Train/covid/auntminnie-b-2020_01_28_23_51_6665_2020_01_28_Vietnam_coronavirus.jpeg  \n",
            "  inflating: /content/{/dataset/Train/covid/auntminnie-c-2020_01_28_23_51_6665_2020_01_28_Vietnam_coronavirus.jpeg  \n",
            "  inflating: /content/{/dataset/Train/covid/auntminnie-d-2020_01_28_23_51_6665_2020_01_28_Vietnam_coronavirus.jpeg  \n",
            "  inflating: /content/{/dataset/Train/covid/lancet-case2a.jpg  \n",
            "  inflating: /content/{/dataset/Train/covid/lancet-case2b.jpg  \n",
            "  inflating: /content/{/dataset/Train/covid/nCoV-radiol.2020200269.fig1-day7.jpeg  \n",
            "  inflating: /content/{/dataset/Train/covid/nejmc2001573_f1a.jpeg  \n",
            "  inflating: /content/{/dataset/Train/covid/nejmc2001573_f1b.jpeg  \n",
            "  inflating: /content/{/dataset/Train/covid/nejmoa2001191_f1-PA.jpeg  \n",
            "  inflating: /content/{/dataset/Train/covid/ryct.2020200028.fig1a.jpeg  \n",
            "  inflating: /content/{/dataset/Train/covid/ryct.2020200034.fig2.jpeg  \n",
            "  inflating: /content/{/dataset/Train/covid/ryct.2020200034.fig5-day0.jpeg  \n",
            "  inflating: /content/{/dataset/Train/covid/ryct.2020200034.fig5-day4.jpeg  \n",
            "  inflating: /content/{/dataset/Train/covid/ryct.2020200034.fig5-day7.jpeg  \n",
            "  inflating: /content/{/dataset/Train/normal/NORMAL2-IM-0869-0001.jpeg  \n",
            "  inflating: /content/{/dataset/Train/normal/NORMAL2-IM-1179-0001.jpeg  \n",
            "  inflating: /content/{/dataset/Train/normal/person1102_bacteria_3043.jpeg  \n",
            "  inflating: /content/{/dataset/Train/normal/person1290_virus_2215.jpeg  \n",
            "  inflating: /content/{/dataset/Train/normal/person1558_bacteria_4066.jpeg  \n",
            "  inflating: /content/{/dataset/Train/normal/person1599_virus_2776.jpeg  \n",
            "  inflating: /content/{/dataset/Train/normal/person1830_bacteria_4693.jpeg  \n",
            "  inflating: /content/{/dataset/Train/normal/person1935_bacteria_4849.jpeg  \n",
            "  inflating: /content/{/dataset/Train/normal/person1_bacteria_2.jpeg  \n",
            "  inflating: /content/{/dataset/Train/normal/person259_bacteria_1220.jpeg  \n",
            "  inflating: /content/{/dataset/Train/normal/person339_bacteria_1574.jpeg  \n",
            "  inflating: /content/{/dataset/Train/normal/person378_virus_761.jpeg  \n",
            "  inflating: /content/{/dataset/Train/normal/person438_bacteria_1893.jpeg  \n",
            "  inflating: /content/{/dataset/Train/normal/person525_bacteria_2216.jpeg  \n",
            "  inflating: /content/{/dataset/Train/normal/person612_bacteria_2478.jpeg  \n",
            "  inflating: /content/{/dataset/Train/normal/person651_bacteria_2543.jpeg  \n",
            "  inflating: /content/{/dataset/Train/normal/person925_virus_1582.jpeg  \n",
            "  inflating: /content/{/dataset/Train/normal/person934_virus_1595.jpeg  \n",
            "  inflating: /content/{/dataset/Train/normal/person939_bacteria_2864.jpeg  \n",
            "  inflating: /content/{/dataset/Train/normal/person989_virus_1667.jpeg  \n"
          ],
          "name": "stdout"
        }
      ]
    },
    {
      "cell_type": "code",
      "metadata": {
        "id": "U1Xy5jYo_EoJ",
        "colab_type": "code",
        "outputId": "b87662a3-4ccf-42fb-d5fe-2401948891fa",
        "colab": {
          "base_uri": "https://localhost:8080/",
          "height": 52
        }
      },
      "source": [
        "from tensorflow.keras.applications.vgg16 import VGG16\n",
        "img_rows, img_cols = 224, 224 \n",
        "model = VGG16(weights='imagenet',include_top = False,input_shape = (img_rows, img_cols, 3))"
      ],
      "execution_count": 0,
      "outputs": [
        {
          "output_type": "stream",
          "text": [
            "Downloading data from https://storage.googleapis.com/tensorflow/keras-applications/vgg16/vgg16_weights_tf_dim_ordering_tf_kernels_notop.h5\n",
            "58892288/58889256 [==============================] - 0s 0us/step\n"
          ],
          "name": "stdout"
        }
      ]
    },
    {
      "cell_type": "code",
      "metadata": {
        "id": "f8yYM1WX_Zdx",
        "colab_type": "code",
        "colab": {}
      },
      "source": [
        "for layer in model.layers:\n",
        "    layer.trainable = False"
      ],
      "execution_count": 0,
      "outputs": []
    },
    {
      "cell_type": "code",
      "metadata": {
        "id": "UEYVsbVN_kNK",
        "colab_type": "code",
        "colab": {}
      },
      "source": [
        "def addTopModelResNet(bottom_model, num_classes):\n",
        "\n",
        "    top_model = bottom_model.output\n",
        "    top_model = GlobalAveragePooling2D()(top_model)\n",
        "    top_model = Dense(64,activation='relu')(top_model)\n",
        "    top_model=Dropout(.2)(top_model)\n",
        "    top_model = Dense(num_classes,activation='softmax')(top_model)\n",
        "    return top_model"
      ],
      "execution_count": 0,
      "outputs": []
    },
    {
      "cell_type": "code",
      "metadata": {
        "id": "GAFLSEhjFwqy",
        "colab_type": "code",
        "outputId": "db026eff-8a63-45d5-b702-fddf5f6129ba",
        "colab": {
          "base_uri": "https://localhost:8080/",
          "height": 972
        }
      },
      "source": [
        "\n",
        "from tensorflow.keras.preprocessing import image \n",
        "from tensorflow.keras.models import Model,Sequential\n",
        "from tensorflow.keras.layers import Dense, Dropout, Activation, Flatten, GlobalAveragePooling2D\n",
        "\n",
        "num_classes = 2\n",
        "\n",
        "FC_Head = addTopModelResNet(model, num_classes)\n",
        "\n",
        "model = Model(inputs = model.input, outputs = FC_Head)\n",
        "\n",
        "print(model.summary())"
      ],
      "execution_count": 0,
      "outputs": [
        {
          "output_type": "stream",
          "text": [
            "Model: \"model\"\n",
            "_________________________________________________________________\n",
            "Layer (type)                 Output Shape              Param #   \n",
            "=================================================================\n",
            "input_1 (InputLayer)         [(None, 224, 224, 3)]     0         \n",
            "_________________________________________________________________\n",
            "block1_conv1 (Conv2D)        (None, 224, 224, 64)      1792      \n",
            "_________________________________________________________________\n",
            "block1_conv2 (Conv2D)        (None, 224, 224, 64)      36928     \n",
            "_________________________________________________________________\n",
            "block1_pool (MaxPooling2D)   (None, 112, 112, 64)      0         \n",
            "_________________________________________________________________\n",
            "block2_conv1 (Conv2D)        (None, 112, 112, 128)     73856     \n",
            "_________________________________________________________________\n",
            "block2_conv2 (Conv2D)        (None, 112, 112, 128)     147584    \n",
            "_________________________________________________________________\n",
            "block2_pool (MaxPooling2D)   (None, 56, 56, 128)       0         \n",
            "_________________________________________________________________\n",
            "block3_conv1 (Conv2D)        (None, 56, 56, 256)       295168    \n",
            "_________________________________________________________________\n",
            "block3_conv2 (Conv2D)        (None, 56, 56, 256)       590080    \n",
            "_________________________________________________________________\n",
            "block3_conv3 (Conv2D)        (None, 56, 56, 256)       590080    \n",
            "_________________________________________________________________\n",
            "block3_pool (MaxPooling2D)   (None, 28, 28, 256)       0         \n",
            "_________________________________________________________________\n",
            "block4_conv1 (Conv2D)        (None, 28, 28, 512)       1180160   \n",
            "_________________________________________________________________\n",
            "block4_conv2 (Conv2D)        (None, 28, 28, 512)       2359808   \n",
            "_________________________________________________________________\n",
            "block4_conv3 (Conv2D)        (None, 28, 28, 512)       2359808   \n",
            "_________________________________________________________________\n",
            "block4_pool (MaxPooling2D)   (None, 14, 14, 512)       0         \n",
            "_________________________________________________________________\n",
            "block5_conv1 (Conv2D)        (None, 14, 14, 512)       2359808   \n",
            "_________________________________________________________________\n",
            "block5_conv2 (Conv2D)        (None, 14, 14, 512)       2359808   \n",
            "_________________________________________________________________\n",
            "block5_conv3 (Conv2D)        (None, 14, 14, 512)       2359808   \n",
            "_________________________________________________________________\n",
            "block5_pool (MaxPooling2D)   (None, 7, 7, 512)         0         \n",
            "_________________________________________________________________\n",
            "global_average_pooling2d (Gl (None, 512)               0         \n",
            "_________________________________________________________________\n",
            "dense (Dense)                (None, 64)                32832     \n",
            "_________________________________________________________________\n",
            "dropout (Dropout)            (None, 64)                0         \n",
            "_________________________________________________________________\n",
            "dense_1 (Dense)              (None, 2)                 130       \n",
            "=================================================================\n",
            "Total params: 14,747,650\n",
            "Trainable params: 32,962\n",
            "Non-trainable params: 14,714,688\n",
            "_________________________________________________________________\n",
            "None\n"
          ],
          "name": "stdout"
        }
      ]
    },
    {
      "cell_type": "code",
      "metadata": {
        "id": "S4pQo5b7BU88",
        "colab_type": "code",
        "outputId": "c098987d-3e7e-4aac-d320-363bec7a3e55",
        "colab": {
          "base_uri": "https://localhost:8080/",
          "height": 52
        }
      },
      "source": [
        "from keras.preprocessing.image import ImageDataGenerator\n",
        "\n",
        "train_data_dir = '/content/{/dataset/Train'\n",
        "validation_data_dir = '/content/{/dataset/Test'\n",
        "\n",
        "train_datagen = ImageDataGenerator(\n",
        "      rescale=1./255,\n",
        "      rotation_range=45,\n",
        "      width_shift_range=0.3,\n",
        "      height_shift_range=0.3,\n",
        "      horizontal_flip=True,\n",
        "      fill_mode='nearest')\n",
        " \n",
        "validation_datagen = ImageDataGenerator(rescale=1./255)\n",
        " \n",
        "batch_size = 2\n",
        " \n",
        "train_generator = train_datagen.flow_from_directory(\n",
        "        train_data_dir,\n",
        "        target_size=(img_rows, img_cols),\n",
        "        batch_size=batch_size,\n",
        "        class_mode='categorical')\n",
        " \n",
        "validation_generator = validation_datagen.flow_from_directory(\n",
        "        validation_data_dir,\n",
        "        target_size=(img_rows, img_cols),\n",
        "        batch_size=batch_size,\n",
        "        class_mode='categorical')"
      ],
      "execution_count": 0,
      "outputs": [
        {
          "output_type": "stream",
          "text": [
            "Found 40 images belonging to 2 classes.\n",
            "Found 10 images belonging to 2 classes.\n"
          ],
          "name": "stdout"
        }
      ]
    },
    {
      "cell_type": "code",
      "metadata": {
        "id": "gIOND-s9CRvO",
        "colab_type": "code",
        "outputId": "6a39181d-fedd-4f37-c104-f97c0bda97ea",
        "colab": {
          "base_uri": "https://localhost:8080/",
          "height": 69
        }
      },
      "source": [
        ""
      ],
      "execution_count": 0,
      "outputs": [
        {
          "output_type": "stream",
          "text": [
            "Using TensorFlow backend.\n"
          ],
          "name": "stderr"
        },
        {
          "output_type": "stream",
          "text": [
            "Found 40 images belonging to 2 classes.\n",
            "Found 10 images belonging to 2 classes.\n"
          ],
          "name": "stdout"
        }
      ]
    },
    {
      "cell_type": "code",
      "metadata": {
        "id": "jcWM26ItFMKV",
        "colab_type": "code",
        "outputId": "d464c1b7-acaf-4fc7-b1ec-b6ed59218802",
        "colab": {
          "base_uri": "https://localhost:8080/",
          "height": 885
        }
      },
      "source": [
        "from tensorflow import keras\n",
        "from keras.callbacks import ModelCheckpoint, EarlyStopping\n",
        "\n",
        "                     \n",
        "\n",
        "model.compile(loss = 'categorical_crossentropy',\n",
        "              optimizer = tf.keras.optimizers.RMSprop(learning_rate=0.001),\n",
        "              metrics = ['accuracy'])\n",
        "\n",
        "nb_train_samples = 40\n",
        "nb_validation_samples = 10\n",
        "\n",
        "epochs = 25\n",
        "batch_size = 2\n",
        "\n",
        "history = model.fit_generator(\n",
        "    train_generator,\n",
        "    steps_per_epoch = nb_train_samples // batch_size,\n",
        "    epochs = epochs,\n",
        "    validation_data = validation_generator,\n",
        "    validation_steps = nb_validation_samples // batch_size)"
      ],
      "execution_count": 0,
      "outputs": [
        {
          "output_type": "stream",
          "text": [
            "Epoch 1/25\n",
            "20/20 [==============================] - 1s 75ms/step - loss: 0.4384 - accuracy: 0.8500 - val_loss: 0.5076 - val_accuracy: 0.6000\n",
            "Epoch 2/25\n",
            "20/20 [==============================] - 1s 74ms/step - loss: 0.3822 - accuracy: 0.8250 - val_loss: 0.2766 - val_accuracy: 1.0000\n",
            "Epoch 3/25\n",
            "20/20 [==============================] - 2s 76ms/step - loss: 0.3299 - accuracy: 0.8500 - val_loss: 0.3240 - val_accuracy: 0.9000\n",
            "Epoch 4/25\n",
            "20/20 [==============================] - 1s 68ms/step - loss: 0.3589 - accuracy: 0.8500 - val_loss: 0.4177 - val_accuracy: 0.7000\n",
            "Epoch 5/25\n",
            "20/20 [==============================] - 1s 72ms/step - loss: 0.3569 - accuracy: 0.8750 - val_loss: 0.3218 - val_accuracy: 0.9000\n",
            "Epoch 6/25\n",
            "20/20 [==============================] - 2s 80ms/step - loss: 0.3027 - accuracy: 0.8500 - val_loss: 0.2185 - val_accuracy: 1.0000\n",
            "Epoch 7/25\n",
            "20/20 [==============================] - 2s 77ms/step - loss: 0.3745 - accuracy: 0.8000 - val_loss: 0.3330 - val_accuracy: 0.8000\n",
            "Epoch 8/25\n",
            "20/20 [==============================] - 1s 75ms/step - loss: 0.3199 - accuracy: 0.8250 - val_loss: 0.2618 - val_accuracy: 0.9000\n",
            "Epoch 9/25\n",
            "20/20 [==============================] - 1s 74ms/step - loss: 0.3429 - accuracy: 0.9000 - val_loss: 0.2047 - val_accuracy: 1.0000\n",
            "Epoch 10/25\n",
            "20/20 [==============================] - 1s 73ms/step - loss: 0.3508 - accuracy: 0.8000 - val_loss: 0.2150 - val_accuracy: 1.0000\n",
            "Epoch 11/25\n",
            "20/20 [==============================] - 1s 71ms/step - loss: 0.2868 - accuracy: 0.9250 - val_loss: 0.5064 - val_accuracy: 0.6000\n",
            "Epoch 12/25\n",
            "20/20 [==============================] - 2s 76ms/step - loss: 0.2747 - accuracy: 0.9000 - val_loss: 0.2687 - val_accuracy: 0.9000\n",
            "Epoch 13/25\n",
            "20/20 [==============================] - 1s 73ms/step - loss: 0.3232 - accuracy: 0.9000 - val_loss: 0.2111 - val_accuracy: 0.9000\n",
            "Epoch 14/25\n",
            "20/20 [==============================] - 2s 77ms/step - loss: 0.2617 - accuracy: 0.8750 - val_loss: 0.1544 - val_accuracy: 1.0000\n",
            "Epoch 15/25\n",
            "20/20 [==============================] - 2s 76ms/step - loss: 0.2517 - accuracy: 0.9000 - val_loss: 0.1999 - val_accuracy: 0.9000\n",
            "Epoch 16/25\n",
            "20/20 [==============================] - 2s 77ms/step - loss: 0.2123 - accuracy: 0.9250 - val_loss: 0.1595 - val_accuracy: 1.0000\n",
            "Epoch 17/25\n",
            "20/20 [==============================] - 2s 77ms/step - loss: 0.1934 - accuracy: 0.9250 - val_loss: 0.1443 - val_accuracy: 1.0000\n",
            "Epoch 18/25\n",
            "20/20 [==============================] - 2s 83ms/step - loss: 0.2055 - accuracy: 0.9250 - val_loss: 0.1314 - val_accuracy: 1.0000\n",
            "Epoch 19/25\n",
            "20/20 [==============================] - 1s 74ms/step - loss: 0.2532 - accuracy: 0.9250 - val_loss: 0.1311 - val_accuracy: 1.0000\n",
            "Epoch 20/25\n",
            "20/20 [==============================] - 2s 78ms/step - loss: 0.2325 - accuracy: 0.9000 - val_loss: 0.3276 - val_accuracy: 0.9000\n",
            "Epoch 21/25\n",
            "20/20 [==============================] - 2s 78ms/step - loss: 0.2632 - accuracy: 0.8750 - val_loss: 0.1280 - val_accuracy: 1.0000\n",
            "Epoch 22/25\n",
            "20/20 [==============================] - 2s 77ms/step - loss: 0.3194 - accuracy: 0.8500 - val_loss: 0.2187 - val_accuracy: 0.9000\n",
            "Epoch 23/25\n",
            "20/20 [==============================] - 2s 79ms/step - loss: 0.2286 - accuracy: 0.9250 - val_loss: 0.1161 - val_accuracy: 1.0000\n",
            "Epoch 24/25\n",
            "20/20 [==============================] - 2s 75ms/step - loss: 0.2862 - accuracy: 0.9000 - val_loss: 0.1285 - val_accuracy: 1.0000\n",
            "Epoch 25/25\n",
            "20/20 [==============================] - 1s 71ms/step - loss: 0.2720 - accuracy: 0.9500 - val_loss: 0.2669 - val_accuracy: 0.9000\n"
          ],
          "name": "stdout"
        }
      ]
    },
    {
      "cell_type": "code",
      "metadata": {
        "id": "GqBO0nboAVze",
        "colab_type": "code",
        "colab": {}
      },
      "source": [
        ""
      ],
      "execution_count": 0,
      "outputs": []
    }
  ]
}